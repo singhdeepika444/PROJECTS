{
 "cells": [
  {
   "cell_type": "markdown",
   "id": "9ae5d101",
   "metadata": {},
   "source": [
    "## checked code------no typing mistake"
   ]
  },
  {
   "cell_type": "code",
   "execution_count": 1,
   "id": "aae47100",
   "metadata": {},
   "outputs": [
    {
     "name": "stdout",
     "output_type": "stream",
     "text": [
      "hello\n"
     ]
    }
   ],
   "source": [
    "import tkinter as tk\n",
    "print(\"hello\")"
   ]
  },
  {
   "cell_type": "code",
   "execution_count": 2,
   "id": "6e82e540",
   "metadata": {},
   "outputs": [
    {
     "name": "stdout",
     "output_type": "stream",
     "text": [
      "pygame 2.0.1 (SDL 2.0.14, Python 3.9.6)\n",
      "Hello from the pygame community. https://www.pygame.org/contribute.html\n"
     ]
    }
   ],
   "source": [
    "import pygame "
   ]
  },
  {
   "cell_type": "code",
   "execution_count": 19,
   "id": "731c391e",
   "metadata": {},
   "outputs": [],
   "source": [
    "from collections import defaultdict\n",
    "import ctypes\n",
    "from tkinter import ACTIVE\n",
    "import tkinter as tk\n",
    "from itsdangerous import NoneAlgorithm\n",
    "import numpy as np\n",
    "import pandas as pd\n",
    "import scipy\n",
    "import scipy.io.wavfile as wav\n",
    "from python_speech_features import mfcc\n",
    "from tempfile import TemporaryFile\n",
    "import pygame\n",
    "from pygame import mixer\n",
    "import os\n",
    "import math\n",
    "import pickle\n",
    "import random\n",
    "import operator\n",
    "import os\n",
    "from tkinter import *\n",
    "from gevent import config\n",
    "from matplotlib.pyplot import fill\n",
    "import pygame\n",
    "from pygame import mixer"
   ]
  },
  {
   "cell_type": "code",
   "execution_count": 20,
   "id": "7554f4b8",
   "metadata": {},
   "outputs": [],
   "source": [
    "# def playsong(self):\n",
    "#     self.track.set(self.playlist.get(ACTIVE))\n",
    "#     self.status.set(\"-playing\")\n",
    "#     pygame.mixer.music.load(self.playlist.get(ACTIVE))\n",
    "#     pygame.mixer.music.play()\n",
    "\n",
    "# def pausesong(self):\n",
    "#     self.status.set(\"-paused\")\n",
    "#     pygame.mixer.music.pause()\n",
    "\n",
    "# def stopsong(self):\n",
    "#     self.status.set(\"-stop\")\n",
    "#     pygame.mixer.music.stop()\n",
    "\n",
    "# def unpausesong(self):\n",
    "#     self.status.set(\"-playing\")\n",
    "#     pygame.mixer.music.unpause()\n",
    "\n",
    "# def play_music():\n",
    "#     mixer.music.play()\n",
    "\n",
    "# def pause_music():\n",
    "#     mixer.music.pause()"
   ]
  },
  {
   "cell_type": "code",
   "execution_count": 15,
   "id": "fa26a5fe",
   "metadata": {},
   "outputs": [],
   "source": [
    "def play(self):\n",
    "    pygame.mixer.music.load(self.play_list.get(tkr.ACTIVE))\n",
    "    var.set(play_list.get(tkr.ACTIVE))\n",
    "    pygame.mixer.music.play()\n",
    "def stop():\n",
    "    pygame.mixer.music.stop()\n",
    "def pause():\n",
    "    pygame.mixer.music.pause()\n",
    "def unpause():\n",
    "    pygame.mixer.music.unpause()"
   ]
  },
  {
   "cell_type": "code",
   "execution_count": 3,
   "id": "a6b24fe5",
   "metadata": {},
   "outputs": [],
   "source": [
    "def distance(instance1,instance2,k):\n",
    "    distance=0\n",
    "    mm1=instance1[0]\n",
    "    cm1=instance1[1]\n",
    "    mm2=instance2[0]\n",
    "    cm2=instance2[1]\n",
    "    distance=np.trace(np.dot(np.linalg.inv(cm2),cm1))\n",
    "    distance+=(np.dot(np.dot((mm2-mm1).transpose(),np.linalg.inv(cm2)),mm2-mm1))\n",
    "    distance+=np.log(np.linalg.det(cm2))-np.log(np.linalg.det(cm1))\n",
    "    distance-=k\n",
    "    return distance\n",
    "\n",
    "def getNeighbors(trainingset,instance,k):\n",
    "    distances=[]\n",
    "    for x in range(len(trainingset)):\n",
    "        dist=distance(trainingset[x],instance,k)+distance(instance,trainingset[x],k)\n",
    "        distances.append((trainingset[x][2],dist))\n",
    "    distances.sort(key=operator.itemgetter(1))\n",
    "    neighbors=[]\n",
    "    for x in range(k):\n",
    "        neighbors.append(distances[x][0])\n",
    "    return neighbors\n",
    "\n",
    "def nearestclass(neighbors):\n",
    "    classvote={}\n",
    "    for x in range(len(neighbors)):\n",
    "        respone=neighbors[x]\n",
    "        if respone in classvote:\n",
    "            classvote[respone]+=1\n",
    "        else:\n",
    "            classvote[respone]=1\n",
    "    sorter=sorted(classvote.items(),key=operator.itemgetter(1),reverse=True)\n",
    "    return sorter[0][0]\n",
    "\n",
    "def getAccuracy(testSet,prediction):\n",
    "    correct=0\n",
    "    for x in range(len(testSet)):\n",
    "        if testSet[x][-1]==prediction[x]:\n",
    "            correct+=1\n",
    "    return 1.0 *correct/len(testSet)"
   ]
  },
  {
   "cell_type": "code",
   "execution_count": 16,
   "id": "9aaf3c7a",
   "metadata": {},
   "outputs": [],
   "source": [
    "class MusicPlayer(object):\n",
    "    def __init__(self,root):\n",
    "        self.root=root\n",
    "        self.root.title(\"MusicPlayer\")\n",
    "        self.root.geometry(\"1000x200+200+200\")\n",
    "        pygame.init()\n",
    "        pygame.mixer.init()\n",
    "        self.track=StringVar()\n",
    "        self.status=StringVar()\n",
    "\n",
    "        trackframe=LabelFrame(self.root,text=\"song track\",font=(\"times new roman\",15,\"bold\"),bg=\"Navyblue\",fg=\"white\",bd=5,relief=GROOVE)\n",
    "        trackframe.place(x=0,y=0,width=600,height=100)\n",
    "\n",
    "        songtrack=Label(trackframe,textvariable=self.track,width=20,font=(\"times new roman\",24,\"bold\"),bg=\"orange\",fg=\"gold\").grid(row=0,column=1,sticky=\"w\")\n",
    "        trackstatus=Label(trackframe,textvariable=self.status,font=(\"times new roman\",24,\"bold\"),bg=\"orange\",fg=\"gold\").grid(row=0,column=1,sticky=\"w\")\n",
    "        \n",
    "        buttonframe=LabelFrame(self.root,text=\"control panel\",font=(\"times new roman\",15,\"bold\"),bg=\"grey\",fg=\"white\",bd=5,relief=GROOVE)\n",
    "        buttonframe.place(x=0,y=100,width=600,height=100)\n",
    "\n",
    "        playbtn=Button(buttonframe,text=\"playsong\", command=play,width=10,height=1,font=(\"times new roman\",16,\"bold\"),fg=\"navyblue\",bg=\"white\",bd=5,relief=GROOVE)\n",
    "        pausebtn=Button(buttonframe,text=\"pause\", command=pause,width=10,height=1,font=(\"times new roman\",16,\"bold\"),fg=\"navyblue\",bg=\"white\",bd=5,relief=GROOVE)\n",
    "        unpausebtn=Button(buttonframe,text=\"genre\", command=GenreResult,width=10,height=1,font=(\"times new roman\",16,\"bold\"),fg=\"navyblue\",bg=\"white\",bd=5,relief=GROOVE)\n",
    "        stopbtn=Button(buttonframe,text=\"stopsong\", command=lambda:stop,width=10,height=1,font=(\"times new roman\",16,\"bold\"),fg=\"navyblue\",bg=\"white\",bd=5,relief=GROOVE)\n",
    "\n",
    "        songsframe=LabelFrame(self.root,text=\"song playlist\",font=(\"times new roman\",15,\"bold\"),bg=\"Navyblue\",fg=\"white\",bd=5,relief=GROOVE)\n",
    "        songsframe.place(x=600,y=0,width=400,height=200)\n",
    "\n",
    "        scrol_y=Scrollbar(songsframe,orient=VERTICAL)\n",
    "\n",
    "        self.playlist=Listbox(songsframe,yscrollcommand=scrol_y.set,selectbackground=\"gold\",selectmode=SINGLE,font=(\"times new roman\",15,\"bold\"))\n",
    "        scrol_y.pack(side=RIGHT,fill=Y)\n",
    "        scrol_y.config(command=self.playlist.yview)\n",
    "        self.playlist.pack(fill=BOTH)\n",
    "\n",
    "        os.chdir(r\"E:/Data/genres_original/pop\")\n",
    "        \n",
    "        songstracks=os.listdir()\n",
    "        for track in songstracks:\n",
    "            self.playlist.insert(END,track)\n",
    "        print(track)\n",
    "\n",
    "        self.track.set(self.playlist.get(ACTIVE))\n",
    "        print(self.playlist.get(ACTIVE))\n",
    "        self.status.set(\"-playing\")\n",
    "        mixer.music.load(self.playlist.get(ACTIVE))\n",
    "        mixer.music.pause()"
   ]
  },
  {
   "cell_type": "code",
   "execution_count": 5,
   "id": "9db15988",
   "metadata": {},
   "outputs": [
    {
     "name": "stdout",
     "output_type": "stream",
     "text": [
      "Got anception:  File format b'\\xcb\\x15\\x1e\\x16' not understood. Only 'RIFF' and 'RIFX' supported. in folder:  jazz  filename:  jazz.00054.wav\n"
     ]
    }
   ],
   "source": [
    "directory123=\"E:/Data/genres_original\"\n",
    "fs=open(\"my1.dat\",\"wb\")\n",
    "iS=0\n",
    "folders=\" \"\n",
    "for folders in os.listdir(directory123):\n",
    "    iS+=1\n",
    "    if iS==11:\n",
    "        break\n",
    "    for files in os.listdir(directory123+\"/\"+folders):\n",
    "        try:\n",
    "            (rate,sig)=wav.read(directory123+\"/\"+folders+\"/\"+files)\n",
    "            mfcc_feat=mfcc(sig,rate,winlen=0.020,appendEnergy=False)\n",
    "            covariance=np.cov(np.matrix.transpose(mfcc_feat))\n",
    "            mean_matrix=mfcc_feat.mean(0)\n",
    "            features=(mean_matrix,covariance,iS)\n",
    "            pickle.dump(features,fs)\n",
    "        except Exception as e:\n",
    "            print(\"Got anception: \",e,\"in folder: \",folders,' filename: ', files)\n",
    "fs.close()"
   ]
  },
  {
   "cell_type": "code",
   "execution_count": 6,
   "id": "9c528527",
   "metadata": {},
   "outputs": [
    {
     "name": "stdout",
     "output_type": "stream",
     "text": [
      "0.6136363636363636\n"
     ]
    }
   ],
   "source": [
    "dataset=[]\n",
    "def loadDataset(filename,split,trset,teset):\n",
    "    with open(\"my1.dat\",\"rb\") as f:\n",
    "        while True:\n",
    "            try:\n",
    "                dataset.append(pickle.load(f))\n",
    "            except EOFError:\n",
    "                f.close()\n",
    "                break\n",
    "    for x in range(len(dataset)):\n",
    "        if random.random()<split:\n",
    "            trset.append(dataset[x])\n",
    "        else:\n",
    "            teset.append(dataset[x])\n",
    "trainingSet=[]\n",
    "testSet=[]\n",
    "loadDataset(\"my1.dat\",0.66,trainingSet,testSet)\n",
    "\n",
    "length=len(testSet)\n",
    "predictions=[]\n",
    "for x in range(length):\n",
    "    predictions.append(nearestclass(getNeighbors(trainingSet,testSet[x],20)))\n",
    "\n",
    "accuracy1=getAccuracy(testSet,predictions)\n",
    "print(accuracy1)"
   ]
  },
  {
   "cell_type": "code",
   "execution_count": 7,
   "id": "0c4d4602",
   "metadata": {},
   "outputs": [],
   "source": [
    "from collections import defaultdict\n",
    "results=defaultdict(int)\n",
    "directory12=\"E:/Data/genres_original/pop\"\n",
    "\n",
    "i=1\n",
    "for folder in os.listdir(directory12):\n",
    "    results[i]=folder\n",
    "    i+=1\n"
   ]
  },
  {
   "cell_type": "code",
   "execution_count": 8,
   "id": "83419745",
   "metadata": {},
   "outputs": [
    {
     "name": "stdout",
     "output_type": "stream",
     "text": [
      "pop\n"
     ]
    }
   ],
   "source": [
    "import ctypes\n",
    "pred=nearestclass(getNeighbors(dataset,features,5))\n",
    "partioned_string=results[pred].partition('.')\n",
    "before_first_period=partioned_string[0]\n",
    "print(before_first_period)\n",
    "\n",
    "def GenreResult():\n",
    "    ctypes.windll.user32.MessageBoxW(0,(before_first_period),\"genre\",1)\n"
   ]
  },
  {
   "cell_type": "code",
   "execution_count": 9,
   "id": "3a938a8d",
   "metadata": {},
   "outputs": [],
   "source": [
    "import pygame\n",
    "import tkinter as tkr\n",
    "from tkinter.filedialog import askdirectory\n",
    "import os\n",
    "\n",
    "music_player = tkr.Tk()\n",
    "music_player.title(\"My Music Player\")\n",
    "music_player.geometry(\"450x350\")\n",
    "directory = askdirectory()\n",
    "os.chdir(directory)\n",
    "song_list = os.listdir()\n",
    "\n",
    "play_list = tkr.Listbox(music_player, font=\"Helvetica 12 bold\", bg='yellow', selectmode=tkr.SINGLE)\n",
    "for item in song_list:\n",
    "    pos = 0\n",
    "    play_list.insert(pos, item)\n",
    "    pos += 1\n",
    "pygame.init()\n",
    "pygame.mixer.init()\n",
    "\n",
    "def play():\n",
    "    pygame.mixer.music.load(play_list.get(tkr.ACTIVE))\n",
    "    var.set(play_list.get(tkr.ACTIVE))\n",
    "    pygame.mixer.music.play()\n",
    "def stop():\n",
    "    pygame.mixer.music.stop()\n",
    "def pause():\n",
    "    pygame.mixer.music.pause()\n",
    "def unpause():\n",
    "    pygame.mixer.music.unpause()\n",
    "Button1 = tkr.Button(music_player, width=5, height=3, font=\"Helvetica 12 bold\", text=\"PLAY\", command=play, bg=\"blue\", fg=\"white\")\n",
    "Button2 = tkr.Button(music_player, width=5, height=3, font=\"Helvetica 12 bold\", text=\"STOP\", command=stop, bg=\"red\", fg=\"white\")\n",
    "Button3 = tkr.Button(music_player, width=5, height=3, font=\"Helvetica 12 bold\", text=\"PAUSE\", command=pause, bg=\"purple\", fg=\"white\")\n",
    "Button4 = tkr.Button(music_player, width=5, height=3, font=\"Helvetica 12 bold\", text=\"UNPAUSE\", command=unpause, bg=\"orange\", fg=\"white\")\n",
    "Button5 = tkr.Button(music_player, width=5, height=3, font=\"Helvetica 12 bold\", text=\"MUSIC GENRE\", command=GenreResult, bg=\"violet\", fg=\"white\")\n",
    "\n",
    "var = tkr.StringVar() \n",
    "song_title = tkr.Label(music_player, font=\"Helvetica 12 bold\", textvariable=var)\n",
    "\n",
    "song_title.pack()\n",
    "Button1.pack(fill=\"x\")\n",
    "Button2.pack(fill=\"x\")\n",
    "Button3.pack(fill=\"x\")\n",
    "Button4.pack(fill=\"x\")\n",
    "Button5.pack(fill=\"x\")\n",
    "play_list.pack(fill=\"both\", expand=\"yes\")\n",
    "music_player.mainloop()"
   ]
  },
  {
   "cell_type": "code",
   "execution_count": null,
   "id": "d57e1cc3",
   "metadata": {},
   "outputs": [],
   "source": [
    "from tkinter import *"
   ]
  },
  {
   "cell_type": "code",
   "execution_count": 18,
   "id": "3673ee94",
   "metadata": {},
   "outputs": [
    {
     "name": "stdout",
     "output_type": "stream",
     "text": [
      "pop.00099.wav\n",
      "pop.00000.wav\n"
     ]
    }
   ],
   "source": [
    "root=Tk()\n",
    "MusicPlayer(root)\n",
    "root.mainloop()"
   ]
  },
  {
   "cell_type": "code",
   "execution_count": null,
   "id": "6815ff5c",
   "metadata": {},
   "outputs": [],
   "source": [
    "print(\"hello\")"
   ]
  },
  {
   "cell_type": "code",
   "execution_count": null,
   "id": "5be02d5a",
   "metadata": {},
   "outputs": [],
   "source": [
    "# Import the required Libraries\n",
    "from tkinter import *\n",
    "from tkinter import ttk, filedialog\n",
    "from tkinter.filedialog import askopenfile\n",
    "\n",
    "# Create an instance of tkinter frame\n",
    "win = Tk()\n",
    "\n",
    "# Set the geometry of tkinter frame\n",
    "win.geometry(\"700x350\")\n",
    "\n",
    "def open_file():\n",
    "    file = filedialog.askopenfile(mode='r', filetypes=[('Python Files', '*.py')])\n",
    "    \n",
    "    if file:\n",
    "        content = file.read()\n",
    "        file.close()\n",
    "        print(\"%d characters in this file\" % len(content))\n",
    "\n",
    "# Add a Label widget\n",
    "label = Label(win, text=\"Click the Button to browse the Files\", font=('Georgia 13'))\n",
    "label.pack(pady=10)\n",
    "\n",
    "# Create a Button\n",
    "ttk.Button(win, text=\"Browse\", command=open_file).pack(pady=20)\n",
    "\n",
    "win.mainloop()"
   ]
  },
  {
   "cell_type": "code",
   "execution_count": null,
   "id": "f529d329",
   "metadata": {},
   "outputs": [],
   "source": [
    "import tkinter as tk\n",
    "import pygame\n",
    "class MusicPlayer(object):\n",
    "    def __init__(self,root):\n",
    "        self.root=root\n",
    "        self.root.title(\"MusicPlayer\")\n",
    "        self.root.geometry(\"1000x200+200+200\")\n",
    "        pygame.init()\n",
    "        pygame.mixer.init()\n",
    "        self.track=StringVar()\n",
    "        self.status=StringVar()\n",
    "\n",
    "        trackframe=LabelFrame(self.root,text=\"song track\",font=(\"times new roman\",15,\"bold\"),bg=\"Navyblue\",fg=\"white\",bd=5,relief=GROOVE)\n",
    "        trackframe.place(x=0,y=0,width=600,height=100)\n",
    "\n",
    "        songtrack=Label(trackframe,textvariable=self.track,width=20,font=(\"times new roman\",24,\"bold\"),bg=\"orange\",fg=\"gold\").grid(row=0,column=1,sticky=\"w\")\n",
    "        trackstatus=Label(trackframe,textvariable=self.status,font=(\"times new roman\",24,\"bold\"),bg=\"orange\",fg=\"gold\").grid(row=0,column=1,sticky=\"w\")\n",
    "        \n",
    "        buttonframe=LabelFrame(self.root,text=\"control panel\",font=(\"times new roman\",15,\"bold\"),bg=\"grey\",fg=\"white\",bd=5,relief=GROOVE)\n",
    "        buttonframe.place(x=0,y=100,width=600,height=100)\n",
    "\n",
    "        playbtn=Button(buttonframe,text=\"playsong\", command=play_music,width=10,height=1,font=(\"times new roman\",16,\"bold\"),fg=\"navyblue\",bg=\"white\",bd=5,relief=GROOVE)\n",
    "        pausebtn=Button(buttonframe,text=\"pause\", command=pause_music,width=10,height=1,font=(\"times new roman\",16,\"bold\"),fg=\"navyblue\",bg=\"white\",bd=5,relief=GROOVE)\n",
    "        unpausebtn=Button(buttonframe,text=\"genre\", command=GenreResult,width=10,height=1,font=(\"times new roman\",16,\"bold\"),fg=\"navyblue\",bg=\"white\",bd=5,relief=GROOVE)\n",
    "        stopbtn=Button(buttonframe,text=\"stopsong\", command=lambda:stopsong,width=10,height=1,font=(\"times new roman\",16,\"bold\"),fg=\"navyblue\",bg=\"white\",bd=5,relief=GROOVE)\n",
    "\n",
    "        songsframe=LabelFrame(self.root,text=\"song playlist\",font=(\"times new roman\",15,\"bold\"),bg=\"Navyblue\",fg=\"white\",bd=5,relief=GROOVE)\n",
    "        songsframe.place(x=600,y=0,width=400,height=200)\n",
    "\n",
    "        scrol_y=Scrollbar(songsframe,orient=VERTICAL)\n",
    "\n",
    "        self.playlist=Listbox(songsframe,yscrollcommand=scrol_y.set,selectbackground=\"gold\",selectmode=SINGLE,font=(\"times new roman\",15,\"bold\"))\n",
    "        scrol_y.pack(side=RIGHT,fill=Y)\n",
    "        scrol_y.config(command=self.playlist.yview)\n",
    "        self.playlist.pack(fill=BOTH)\n",
    "\n",
    "        os.chdir(r\"E:/PROJECTS\\Data/genres_original/pop\")\n",
    "        \n",
    "        songstracks=os.listdir()\n",
    "        for track in songstracks:\n",
    "            self.playlist.insert(END,track)\n",
    "        print(track)\n",
    "\n",
    "        self.track.set(self.playlist.get(ACTIVE))\n",
    "        print(self.playlist.get(ACTIVE))\n",
    "        self.status.set(\"-playing\")\n",
    "        mixer.music.load(self.playlist.get(ACTIVE))\n",
    "        mixer.music.pause()\n",
    "        \n",
    "root=tk.Tk()\n",
    "MusicPlayer(root)\n",
    "root.mainloop()"
   ]
  },
  {
   "cell_type": "code",
   "execution_count": null,
   "id": "7a52ab2c",
   "metadata": {},
   "outputs": [],
   "source": []
  }
 ],
 "metadata": {
  "kernelspec": {
   "display_name": "Python 3 (ipykernel)",
   "language": "python",
   "name": "python3"
  },
  "language_info": {
   "codemirror_mode": {
    "name": "ipython",
    "version": 3
   },
   "file_extension": ".py",
   "mimetype": "text/x-python",
   "name": "python",
   "nbconvert_exporter": "python",
   "pygments_lexer": "ipython3",
   "version": "3.9.6"
  }
 },
 "nbformat": 4,
 "nbformat_minor": 5
}
