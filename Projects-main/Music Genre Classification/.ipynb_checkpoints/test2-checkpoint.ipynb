{
 "cells": [
  {
   "cell_type": "code",
   "execution_count": 1,
   "id": "39d58a8f",
   "metadata": {},
   "outputs": [
    {
     "name": "stdout",
     "output_type": "stream",
     "text": [
      "pygame 2.0.1 (SDL 2.0.14, Python 3.9.6)\n",
      "Hello from the pygame community. https://www.pygame.org/contribute.html\n"
     ]
    }
   ],
   "source": [
    "from tkinter import *\n",
    "import pygame\n",
    "from pygame import mixer"
   ]
  },
  {
   "cell_type": "code",
   "execution_count": 2,
   "id": "a8e3f22a",
   "metadata": {},
   "outputs": [],
   "source": [
    "import numpy as np\n",
    "import pandas as pd\n",
    "import scipy.io.wavfile as wav\n",
    "from python_speech_features import mfcc\n",
    "from tempfile import TemporaryFile"
   ]
  },
  {
   "cell_type": "code",
   "execution_count": 3,
   "id": "25ce31ea",
   "metadata": {},
   "outputs": [],
   "source": [
    "import os\n",
    "import math\n",
    "import random\n",
    "import pickle\n",
    "import random\n",
    "import operator\n",
    "import pickle"
   ]
  },
  {
   "cell_type": "code",
   "execution_count": 4,
   "id": "ead6c2ed",
   "metadata": {},
   "outputs": [],
   "source": [
    "def playsong(self):\n",
    "    self.track.set(self.playlist.get(ACTIVE))\n",
    "    self.status.set(\"-playing\")\n",
    "    pygame.mixer.music.load(self.playlist.get(ACTIVE))\n",
    "    pygame.mixer.music.play()\n",
    "\n",
    "def pausesong(self):\n",
    "    self.status.set(\"-paused\")\n",
    "    pygame.mixer.music.pause()\n",
    "\n",
    "def stopsong(self):\n",
    "    self.status.set(\"-stop\")\n",
    "    pygame.mixer.music.stop()\n",
    "\n",
    "def pausesong(self):\n",
    "    self.status.set(\"-playing\")\n",
    "    pygame.mixer.music.unpause()\n",
    "\n",
    "def play_music():\n",
    "    mixer.music.play()\n",
    "\n",
    "def pause_music():\n",
    "    mixer.music.pause()"
   ]
  },
  {
   "cell_type": "code",
   "execution_count": 5,
   "id": "34cbf983",
   "metadata": {},
   "outputs": [],
   "source": [
    "def distance(instance1,instance2,k):\n",
    "    distance=0\n",
    "    mm1=instance1[0]\n",
    "    cm1=instance1[1]\n",
    "    mm2=instance2[0]\n",
    "    cm2=instance2[1]\n",
    "    distance=np.trace(np.dot(np.linalg.inv(cm2),cm1))\n",
    "    distance+=(np.dot(np.dot((mm2-mm1).transpose(),np.linalg.inv(cm2)),mm2-mm1))\n",
    "    distance+=np.log(np.linalg.det(cm2))-np.log(np.linalg.det(cm1))\n",
    "    distance-=k\n",
    "    return distance\n",
    "\n",
    "def getNeighbors(trainingset,instance,k):\n",
    "    distances=[]\n",
    "    for x in range(len(trainingset)):\n",
    "        dist=distance(trainingset[x],instance,k)+distance(instance,trainingset[x],k)\n",
    "        distances.append((trainingset[x][2],dist))\n",
    "    distances.sort(key=operator.itemgetter(1))\n",
    "    neighbors=[]\n",
    "    for x in range(k):\n",
    "        neighbors.append(distances[x][0])\n",
    "    return neighbors\n",
    "\n",
    "def nearestclass(neighbors):\n",
    "    classvote={}\n",
    "    for x in range(len(neighbors)):\n",
    "        respone=neighbors[x]\n",
    "        if respone in classvote:\n",
    "            classvote[respone]+=1\n",
    "        else:\n",
    "            classvote[respone]=1\n",
    "    sorter=sorted(classvote.items(),key=operator.itemgetter(1),reverse=True)\n",
    "    return sorter[0][0]\n",
    "\n",
    "def getAccuracy(testSet,prediction):\n",
    "    correct=0\n",
    "    for x in range(len(testSet)):\n",
    "        if testSet[x][-1]==prediction[x]:\n",
    "            correct+=1\n",
    "    return (1.0 *correct)/len(testSet)"
   ]
  },
  {
   "cell_type": "code",
   "execution_count": 6,
   "id": "71affc76",
   "metadata": {},
   "outputs": [],
   "source": [
    "class MusicPlayer(object):\n",
    "    def __init__(self,root):\n",
    "        self.root=root\n",
    "        self.root.title(\"MusicPlayer\")\n",
    "        self.root.geometry(\"1000x200+200+200\")\n",
    "        pygame.init()\n",
    "        pygame.mixer.init()\n",
    "        self.track=StringVar()\n",
    "        self.status=StringVar()\n",
    "\n",
    "        trackframe=LabelFrame(self.root,text=\"song track\",font=(\"times new roman\",15,\"bold\"),bg=\"Navyblue\",fg=\"white\",bd=5,relief=GROOVE)\n",
    "        trackframe.place(x=0,y=0,width=600,height=100)\n",
    "\n",
    "        songtrack=Label(trackframe,textvariable=self.track,width=20,font=(\"times new roman\",24,\"bold\"),bg=\"orange\",fg=\"gold\").grid(row=0,column=1,sticky=\"w\")\n",
    "        trackstatus=Label(trackframe,textvariable=self.status,font=(\"times new roman\",24,\"bold\"),bg=\"orange\",fg=\"gold\").grid(row=0,column=1,sticky=\"w\")\n",
    "        \n",
    "        buttonframe=LabelFrame(self.root,text=\"control panel\",font=(\"times new roman\",15,\"bold\"),bg=\"grey\",fg=\"white\",bd=5,relief=GROOVE)\n",
    "        buttonframe.place(x=0,y=100,width=600,height=100)\n",
    "\n",
    "        playbtn=Button(buttonframe,text=\"playsong\", command=play_music,width=10,height=1,font=(\"times new roman\",16,\"bold\"),fg=\"navyblue\",bg=\"white\",bd=5,relief=GROOVE)\n",
    "        pausebtn=Button(buttonframe,text=\"pause\", command=pause_music,width=10,height=1,font=(\"times new roman\",16,\"bold\"),fg=\"navyblue\",bg=\"white\",bd=5,relief=GROOVE)\n",
    "        unpausebtn=Button(buttonframe,text=\"genre\", command=GenreResult,width=10,height=1,font=(\"times new roman\",16,\"bold\"),fg=\"navyblue\",bg=\"white\",bd=5,relief=GROOVE)\n",
    "        stopbtn=Button(buttonframe,text=\"stopsong\", command=lambda:stopsong,width=10,height=1,font=(\"times new roman\",16,\"bold\"),fg=\"navyblue\",bg=\"white\",bd=5,relief=GROOVE)\n",
    "\n",
    "        songsframe=LabelFrame(self.root,text=\"song playlist\",font=(\"times new roman\",15,\"bold\"),bg=\"Navyblue\",fg=\"white\",bd=5,relief=GROOVE)\n",
    "        songsframe.place(x=600,y=0,width=400,height=200)\n",
    "\n",
    "        scrol_y=Scrollbar(songsframe,orient=VERTICAL)\n",
    "\n",
    "        self.playlist=Listbox(songsframe,yscrollcommand=scrol_y.set,selectbackground=\"gold\",selectmode=SINGLE,font=(\"times new roman\",15,\"bold\"))\n",
    "        scrol_y.pack(side=RIGHT,fill=Y)\n",
    "        scrol_y.config(command=self.playlist.yview)\n",
    "        self.playlist.pack(fill=BOTH)\n",
    "\n",
    "        os.chdir(r\"E:/PROJECTS\\Data/genres_original/pop\")\n",
    "        \n",
    "        songstracks=os.listdir()\n",
    "        for track in songstracks:\n",
    "            self.playlist.insert(END,track)\n",
    "        print(track)\n",
    "\n",
    "        self.track.set(self.playlist.get(ACTIVE))\n",
    "        print(self.playlist.get(ACTIVE))\n",
    "        self.status.set(\"-playing\")\n",
    "        mixer.music.load(self.playlist.get(ACTIVE))\n",
    "        mixer.music.pause()"
   ]
  },
  {
   "cell_type": "code",
   "execution_count": 7,
   "id": "5dfd83b5",
   "metadata": {},
   "outputs": [
    {
     "name": "stdout",
     "output_type": "stream",
     "text": [
      "Got anception:  File format b'\\xcb\\x15\\x1e\\x16' not understood. Only 'RIFF' and 'RIFX' supported. in folder:  jazz  filename:  jazz.00054.wav\n",
      "Got anception:  File format b'\\x80\\x04\\x95_' not understood. Only 'RIFF' and 'RIFX' supported. in folder:  pop  filename:  my1.dat\n"
     ]
    }
   ],
   "source": [
    "directory123=\"E:/PROJECTS/Data/genres_original\"\n",
    "fs=open(\"my1.dat\",\"wb\")\n",
    "iS=0\n",
    "for folders in os.listdir(directory123):\n",
    "    iS+=1\n",
    "    if iS==11:\n",
    "        break\n",
    "    for files in os.listdir(directory123+\"/\"+folders):\n",
    "        try:\n",
    "            (rate,sig)=wav.read(directory123+\"/\"+folders+\"/\"+files)\n",
    "            mfcc_feat=mfcc(sig,rate,winlen=0.020,appendEnergy=False)\n",
    "            covariance=np.cov(np.matrix.transpose(mfcc_feat))\n",
    "            mean_matrix=mfcc_feat.mean(0)\n",
    "            features=(mean_matrix,covariance,iS)\n",
    "            pickle.dump(features,fs)\n",
    "        except Exception as e:\n",
    "            print(\"Got anception: \",e,\"in folder: \",folders,' filename: ', files)\n",
    "fs.close()"
   ]
  },
  {
   "cell_type": "code",
   "execution_count": 8,
   "id": "f1597788",
   "metadata": {},
   "outputs": [
    {
     "name": "stdout",
     "output_type": "stream",
     "text": [
      "0.603030303030303\n"
     ]
    }
   ],
   "source": [
    "dataset=[]\n",
    "def loadDataset(filename,split,trset,teset):\n",
    "    with open(\"my1.dat\",\"rb\") as f:\n",
    "        while True:\n",
    "            try:\n",
    "                dataset.append(pickle.load(f))\n",
    "            except EOFError:\n",
    "                f.close()\n",
    "                break\n",
    "    for x in range(len(dataset)):\n",
    "        if random.random()<split:\n",
    "            trset.append(dataset[x])\n",
    "        else:\n",
    "            teset.append(dataset[x])\n",
    "trainingSet=[]\n",
    "testSet=[]\n",
    "loadDataset(\"my1.dat\",0.66,trainingSet,testSet)\n",
    "\n",
    "length=len(testSet)\n",
    "predictions=[]\n",
    "for x in range(length):\n",
    "    predictions.append(nearestclass(getNeighbors(trainingSet,testSet[x],20)))\n",
    "\n",
    "accuracy1=getAccuracy(testSet,predictions)\n",
    "print(accuracy1)"
   ]
  },
  {
   "cell_type": "code",
   "execution_count": 9,
   "id": "c7f343d2",
   "metadata": {},
   "outputs": [],
   "source": [
    "from collections import defaultdict\n",
    "results=defaultdict(int)\n",
    "directory12=\"E:/PROJECTS/Data/genres_original/pop\"\n",
    "\n",
    "i=1\n",
    "for folder in os.listdir(directory12):\n",
    "    results[i]=folder\n",
    "    i+=1\n"
   ]
  },
  {
   "cell_type": "code",
   "execution_count": 10,
   "id": "c6a4ad9f",
   "metadata": {},
   "outputs": [
    {
     "name": "stdout",
     "output_type": "stream",
     "text": [
      "pop\n"
     ]
    }
   ],
   "source": [
    "import ctypes\n",
    "pred=nearestclass(getNeighbors(dataset,features,5))\n",
    "partioned_string=results[pred].partition('.')\n",
    "before_first_period=partioned_string[0]\n",
    "print(before_first_period)\n",
    "\n",
    "def GenreResult():\n",
    "    ctypes.windll.user32.MessageBoxW(0,(before_first_period),\"genre\",1)\n"
   ]
  },
  {
   "cell_type": "code",
   "execution_count": 11,
   "id": "ce67cc72",
   "metadata": {},
   "outputs": [
    {
     "name": "stdout",
     "output_type": "stream",
     "text": [
      "pop.00099.wav\n",
      "my1.dat\n"
     ]
    },
    {
     "ename": "error",
     "evalue": "ModPlug_Load failed",
     "output_type": "error",
     "traceback": [
      "\u001b[1;31m---------------------------------------------------------------------------\u001b[0m",
      "\u001b[1;31merror\u001b[0m                                     Traceback (most recent call last)",
      "\u001b[1;32mC:\\Users\\SAURAB~1\\AppData\\Local\\Temp/ipykernel_10568/3898468784.py\u001b[0m in \u001b[0;36m<module>\u001b[1;34m\u001b[0m\n\u001b[0;32m      1\u001b[0m \u001b[0mroot\u001b[0m\u001b[1;33m=\u001b[0m\u001b[0mTk\u001b[0m\u001b[1;33m(\u001b[0m\u001b[1;33m)\u001b[0m\u001b[1;33m\u001b[0m\u001b[1;33m\u001b[0m\u001b[0m\n\u001b[1;32m----> 2\u001b[1;33m \u001b[0mMusicPlayer\u001b[0m\u001b[1;33m(\u001b[0m\u001b[0mroot\u001b[0m\u001b[1;33m)\u001b[0m\u001b[1;33m\u001b[0m\u001b[1;33m\u001b[0m\u001b[0m\n\u001b[0m\u001b[0;32m      3\u001b[0m \u001b[0mroot\u001b[0m\u001b[1;33m.\u001b[0m\u001b[0mmainloop\u001b[0m\u001b[1;33m(\u001b[0m\u001b[1;33m)\u001b[0m\u001b[1;33m\u001b[0m\u001b[1;33m\u001b[0m\u001b[0m\n",
      "\u001b[1;32mC:\\Users\\SAURAB~1\\AppData\\Local\\Temp/ipykernel_10568/316915562.py\u001b[0m in \u001b[0;36m__init__\u001b[1;34m(self, root)\u001b[0m\n\u001b[0;32m     43\u001b[0m         \u001b[0mprint\u001b[0m\u001b[1;33m(\u001b[0m\u001b[0mself\u001b[0m\u001b[1;33m.\u001b[0m\u001b[0mplaylist\u001b[0m\u001b[1;33m.\u001b[0m\u001b[0mget\u001b[0m\u001b[1;33m(\u001b[0m\u001b[0mACTIVE\u001b[0m\u001b[1;33m)\u001b[0m\u001b[1;33m)\u001b[0m\u001b[1;33m\u001b[0m\u001b[1;33m\u001b[0m\u001b[0m\n\u001b[0;32m     44\u001b[0m         \u001b[0mself\u001b[0m\u001b[1;33m.\u001b[0m\u001b[0mstatus\u001b[0m\u001b[1;33m.\u001b[0m\u001b[0mset\u001b[0m\u001b[1;33m(\u001b[0m\u001b[1;34m\"-playing\"\u001b[0m\u001b[1;33m)\u001b[0m\u001b[1;33m\u001b[0m\u001b[1;33m\u001b[0m\u001b[0m\n\u001b[1;32m---> 45\u001b[1;33m         \u001b[0mmixer\u001b[0m\u001b[1;33m.\u001b[0m\u001b[0mmusic\u001b[0m\u001b[1;33m.\u001b[0m\u001b[0mload\u001b[0m\u001b[1;33m(\u001b[0m\u001b[0mself\u001b[0m\u001b[1;33m.\u001b[0m\u001b[0mplaylist\u001b[0m\u001b[1;33m.\u001b[0m\u001b[0mget\u001b[0m\u001b[1;33m(\u001b[0m\u001b[0mACTIVE\u001b[0m\u001b[1;33m)\u001b[0m\u001b[1;33m)\u001b[0m\u001b[1;33m\u001b[0m\u001b[1;33m\u001b[0m\u001b[0m\n\u001b[0m\u001b[0;32m     46\u001b[0m         \u001b[0mmixer\u001b[0m\u001b[1;33m.\u001b[0m\u001b[0mmusic\u001b[0m\u001b[1;33m.\u001b[0m\u001b[0mpause\u001b[0m\u001b[1;33m(\u001b[0m\u001b[1;33m)\u001b[0m\u001b[1;33m\u001b[0m\u001b[1;33m\u001b[0m\u001b[0m\n",
      "\u001b[1;31merror\u001b[0m: ModPlug_Load failed"
     ]
    }
   ],
   "source": [
    "root=Tk()\n",
    "MusicPlayer(root)\n",
    "root.mainloop()"
   ]
  },
  {
   "cell_type": "code",
   "execution_count": null,
   "id": "c3d69c03",
   "metadata": {},
   "outputs": [],
   "source": []
  }
 ],
 "metadata": {
  "kernelspec": {
   "display_name": "Python 3 (ipykernel)",
   "language": "python",
   "name": "python3"
  },
  "language_info": {
   "codemirror_mode": {
    "name": "ipython",
    "version": 3
   },
   "file_extension": ".py",
   "mimetype": "text/x-python",
   "name": "python",
   "nbconvert_exporter": "python",
   "pygments_lexer": "ipython3",
   "version": "3.9.6"
  }
 },
 "nbformat": 4,
 "nbformat_minor": 5
}
