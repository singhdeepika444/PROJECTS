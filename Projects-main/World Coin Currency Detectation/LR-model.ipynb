{
 "cells": [
  {
   "cell_type": "code",
   "execution_count": 1,
   "id": "16cbe7af",
   "metadata": {},
   "outputs": [],
   "source": [
    "import torch\n",
    "import torchvision\n",
    "from torchvision import transforms\n",
    "from torch.utils.data import DataLoader\n",
    "\n",
    "# Set the path to the train, test, and validation directories\n",
    "train_dir = 'coins/data/train'\n",
    "test_dir = 'coins/data/test'\n",
    "val_dir = 'coins/data/validation'"
   ]
  },
  {
   "cell_type": "code",
   "execution_count": 2,
   "id": "bc3a5cf8",
   "metadata": {},
   "outputs": [],
   "source": [
    "# Define a transform to resize and normalize the images\n",
    "transform = transforms.Compose([\n",
    "    transforms.Resize((128, 128)),\n",
    "    transforms.Grayscale(num_output_channels=1),\n",
    "    transforms.ToTensor(),\n",
    "    transforms.Normalize(mean=(0.5,), std=(0.5,))\n",
    "])\n"
   ]
  },
  {
   "cell_type": "code",
   "execution_count": 3,
   "id": "a95bfea6",
   "metadata": {},
   "outputs": [],
   "source": [
    "# Load the train, test, and validation datasets using the ImageFolder class from torchvision\n",
    "train_data = torchvision.datasets.ImageFolder(train_dir, transform=transform)\n",
    "test_data = torchvision.datasets.ImageFolder(test_dir, transform=transform)\n",
    "val_data = torchvision.datasets.ImageFolder(val_dir, transform=transform)"
   ]
  },
  {
   "cell_type": "code",
   "execution_count": 4,
   "id": "3aa282c9",
   "metadata": {},
   "outputs": [],
   "source": [
    "# Create data loaders for the train, test, and validation datasets\n",
    "train_loader = DataLoader(train_data, batch_size=32, shuffle=True)\n",
    "test_loader = DataLoader(test_data, batch_size=32, shuffle=False)\n",
    "val_loader = DataLoader(val_data, batch_size=32, shuffle=False)\n"
   ]
  },
  {
   "cell_type": "code",
   "execution_count": 8,
   "id": "81e988de",
   "metadata": {},
   "outputs": [],
   "source": [
    "# Define a logistic regression model using the Sequential class from torch.nn\n",
    "model = torch.nn.Sequential(\n",
    "    torch.nn.Flatten(),\n",
    "    torch.nn.Linear(128*128, 211)\n",
    ")\n"
   ]
  },
  {
   "cell_type": "code",
   "execution_count": 9,
   "id": "5ba21789",
   "metadata": {},
   "outputs": [],
   "source": [
    "# Define a loss function and an optimizer\n",
    "loss_fn = torch.nn.CrossEntropyLoss()\n",
    "optimizer = torch.optim.SGD(model.parameters(), lr=0.01)"
   ]
  },
  {
   "cell_type": "code",
   "execution_count": 10,
   "id": "b48bacd3",
   "metadata": {},
   "outputs": [
    {
     "name": "stdout",
     "output_type": "stream",
     "text": [
      "Epoch [1/10], Loss: 4.8674\n",
      "Epoch [2/10], Loss: 5.0025\n",
      "Epoch [3/10], Loss: 4.4798\n",
      "Epoch [4/10], Loss: 3.9255\n",
      "Epoch [5/10], Loss: 2.2733\n",
      "Epoch [6/10], Loss: 3.3411\n",
      "Epoch [7/10], Loss: 3.9232\n",
      "Epoch [8/10], Loss: 3.3916\n",
      "Epoch [9/10], Loss: 2.5895\n",
      "Epoch [10/10], Loss: 2.3551\n",
      "Wall time: 9min 49s\n"
     ]
    }
   ],
   "source": [
    "%%time\n",
    "\n",
    "# Train the model\n",
    "num_epochs = 10\n",
    "for epoch in range(num_epochs):\n",
    "    for images, labels in train_loader:\n",
    "        # Forward pass\n",
    "        outputs = model(images)\n",
    "        loss = loss_fn(outputs, labels)\n",
    "\n",
    "        # Backward pass and optimization\n",
    "        optimizer.zero_grad()\n",
    "        loss.backward()\n",
    "        optimizer.step()\n",
    "\n",
    "    # Print the training loss for each epoch\n",
    "    print(f'Epoch [{epoch+1}/{num_epochs}], Loss: {loss.item():.4f}')"
   ]
  },
  {
   "cell_type": "code",
   "execution_count": 11,
   "id": "284c2fd7",
   "metadata": {},
   "outputs": [
    {
     "data": {
      "text/plain": [
       "Sequential(\n",
       "  (0): Flatten(start_dim=1, end_dim=-1)\n",
       "  (1): Linear(in_features=16384, out_features=211, bias=True)\n",
       ")"
      ]
     },
     "execution_count": 11,
     "metadata": {},
     "output_type": "execute_result"
    }
   ],
   "source": [
    "# Evaluate the model on the validation and test data\n",
    "model.eval()"
   ]
  },
  {
   "cell_type": "code",
   "execution_count": 12,
   "id": "0fdf7cef",
   "metadata": {},
   "outputs": [
    {
     "name": "stdout",
     "output_type": "stream",
     "text": [
      "Validation accuracy: 0.3246445497630332\n",
      "Test accuracy: 0.3246445497630332\n"
     ]
    }
   ],
   "source": [
    "with torch.no_grad():\n",
    "    # Calculate the validation accuracy\n",
    "    total_val = 0\n",
    "    correct_val = 0\n",
    "    for images, labels in val_loader:\n",
    "        outputs = model(images)\n",
    "        _, predicted = torch.max(outputs.data, 1)\n",
    "        total_val += labels.size(0)\n",
    "        correct_val += (predicted == labels).sum().item()\n",
    "    val_acc = correct_val / total_val\n",
    "    print('Validation accuracy:', val_acc)\n",
    "\n",
    "    # Calculate the test accuracy\n",
    "    total_test = 0\n",
    "    correct_test = 0\n",
    "    for images, labels in test_loader:\n",
    "        outputs = model(images)\n",
    "        _, predicted = torch.max(outputs.data, 1)\n",
    "        total_test += labels.size(0)\n",
    "        correct_test += (predicted == labels).sum().item()\n",
    "    test_acc = correct_test / total_test\n",
    "    print('Test accuracy:', test_acc)\n",
    "\n"
   ]
  },
  {
   "cell_type": "code",
   "execution_count": 16,
   "id": "a75cba56",
   "metadata": {},
   "outputs": [],
   "source": [
    "# Save the trained model\n",
    "torch.save(model, 'logistic_regression.pth')"
   ]
  },
  {
   "cell_type": "code",
   "execution_count": 17,
   "id": "17379b6f",
   "metadata": {},
   "outputs": [],
   "source": [
    "lr_model=torch.load(\"logistic_regression.pth\")"
   ]
  },
  {
   "cell_type": "code",
   "execution_count": 18,
   "id": "bfdeb033",
   "metadata": {},
   "outputs": [
    {
     "name": "stdout",
     "output_type": "stream",
     "text": [
      "Validation accuracy: 0.3246445497630332\n",
      "Test accuracy: 0.3246445497630332\n"
     ]
    }
   ],
   "source": [
    "with torch.no_grad():\n",
    "    # Calculate the validation accuracy\n",
    "    total_val = 0\n",
    "    correct_val = 0\n",
    "    for images, labels in val_loader:\n",
    "        outputs = lr_model(images)\n",
    "        _, predicted = torch.max(outputs.data, 1)\n",
    "        total_val += labels.size(0)\n",
    "        correct_val += (predicted == labels).sum().item()\n",
    "    val_acc = correct_val / total_val\n",
    "    print('Validation accuracy:', val_acc)\n",
    "\n",
    "    # Calculate the test accuracy\n",
    "    total_test = 0\n",
    "    correct_test = 0\n",
    "    for images, labels in test_loader:\n",
    "        outputs = lr_model(images)\n",
    "        _, predicted = torch.max(outputs.data, 1)\n",
    "        total_test += labels.size(0)\n",
    "        correct_test += (predicted == labels).sum().item()\n",
    "    test_acc = correct_test / total_test\n",
    "    print('Test accuracy:', test_acc)\n",
    "\n"
   ]
  },
  {
   "cell_type": "code",
   "execution_count": null,
   "id": "737503ce",
   "metadata": {},
   "outputs": [],
   "source": []
  }
 ],
 "metadata": {
  "kernelspec": {
   "display_name": "Python 3 (ipykernel)",
   "language": "python",
   "name": "python3"
  },
  "language_info": {
   "codemirror_mode": {
    "name": "ipython",
    "version": 3
   },
   "file_extension": ".py",
   "mimetype": "text/x-python",
   "name": "python",
   "nbconvert_exporter": "python",
   "pygments_lexer": "ipython3",
   "version": "3.9.6"
  }
 },
 "nbformat": 4,
 "nbformat_minor": 5
}
